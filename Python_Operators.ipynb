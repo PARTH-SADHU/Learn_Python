{
 "cells": [
  {
   "cell_type": "markdown",
   "id": "b9ba2531",
   "metadata": {},
   "source": [
    "## OPERATORS:-\n",
    "\n",
    "### Arithmetic Operators: Used with numerical values to perform common mathematical operations.(+:Addition,-:Subtraction)\n",
    "### Assignment Operator: Used to assign values to variables.(=:Equals,+=:EX-x=x+3(x+=3))\n",
    "### Comparison Operator:Used to compare two values.(==:Equal,!=:not equal)\n",
    "### Logical Operator:Used to combine two conditional statements.(and: Returns true if both the values are true, or: Returns if any of the one values from the two is true)\n",
    "### Identity Operator:Used to compare the objects,not if they are equal ,but if they are actually the same object.(is:Returns true if both variables are same object (x is y),is not:Returns true if both the variables are not the same object(x is not y))\n",
    "### Membership Operator:Used to test if a sequence is presented in and object.(in:Returns true if a sequence with the specified value is present in the object(x in y),not in:Returns if a sequence with a value is not present in the object (x not in y))\n",
    "### Bitwise Operator:Used to compare binary numbers(&:AND(sets each bit to 1 if both bits are 1),  |:OR(sets each bit to 1 if one of the  two bits are 1),  ^:XOR(sets each bit to 1 if only one of the two bits is 1))"
   ]
  },
  {
   "cell_type": "code",
   "execution_count": 1,
   "id": "2f3df48a",
   "metadata": {},
   "outputs": [],
   "source": [
    "# Arithmetic Operator:"
   ]
  },
  {
   "cell_type": "code",
   "execution_count": 14,
   "id": "d34c9b52",
   "metadata": {},
   "outputs": [],
   "source": [
    "x=10; y=20\n",
    "result_add=x+y\n",
    "result_sub=x-y\n",
    "result_mul=x*y\n",
    "result_div=x/y"
   ]
  },
  {
   "cell_type": "code",
   "execution_count": 15,
   "id": "49334a17",
   "metadata": {},
   "outputs": [
    {
     "name": "stdout",
     "output_type": "stream",
     "text": [
      "30\n",
      "-10\n",
      "200\n",
      "0.5\n"
     ]
    }
   ],
   "source": [
    "print(result_add)\n",
    "print(result_sub)\n",
    "print(result_mul)\n",
    "print(result_div)"
   ]
  },
  {
   "cell_type": "markdown",
   "id": "5647f147",
   "metadata": {},
   "source": [
    "### Advanced arithmetic operators:\n",
    "#### Modulus(%) Remainder.\n",
    "#### Floor Division(//) Divide and Round.\n",
    "#### Exponent(**) Raise to a power."
   ]
  },
  {
   "cell_type": "code",
   "execution_count": 16,
   "id": "ecd0fffa",
   "metadata": {},
   "outputs": [],
   "source": [
    "a=10;b=3"
   ]
  },
  {
   "cell_type": "code",
   "execution_count": 17,
   "id": "d20ae601",
   "metadata": {},
   "outputs": [
    {
     "name": "stdout",
     "output_type": "stream",
     "text": [
      "1000\n"
     ]
    }
   ],
   "source": [
    "result_expo=a**b\n",
    "print(result_expo)"
   ]
  },
  {
   "cell_type": "code",
   "execution_count": 18,
   "id": "e486c3d3",
   "metadata": {},
   "outputs": [
    {
     "name": "stdout",
     "output_type": "stream",
     "text": [
      "1\n"
     ]
    }
   ],
   "source": [
    "result_modul=a%b\n",
    "print(result_modul)\n",
    "\n",
    "#12 = 3 * 3 + 3\n",
    "#11 = 3 * 3 + 2\n",
    "#10 = 3 * 3 + 1\n",
    "#9 = 3 * 3 + 0"
   ]
  },
  {
   "cell_type": "code",
   "execution_count": 19,
   "id": "bc65e035",
   "metadata": {},
   "outputs": [
    {
     "name": "stdout",
     "output_type": "stream",
     "text": [
      "3\n"
     ]
    }
   ],
   "source": [
    "result_fd=a//b\n",
    "print(result_fd)"
   ]
  },
  {
   "cell_type": "markdown",
   "id": "6fe698e2",
   "metadata": {},
   "source": [
    "### Here,we have a=10 and b=3 from all these advanced operators we can derive an equation \n",
    "### i.e. - a=Floor Division * b + Remainder."
   ]
  },
  {
   "cell_type": "markdown",
   "id": "b3c6d4b0",
   "metadata": {},
   "source": [
    "# Assignment operator:\n",
    "### Assign(=).\n",
    "### Add and Assign(+=).\n",
    "### Subtract and Assign(-=).\n",
    "### Multiply and Assign(*=)."
   ]
  },
  {
   "cell_type": "code",
   "execution_count": 5,
   "id": "ecc23688",
   "metadata": {},
   "outputs": [
    {
     "name": "stdout",
     "output_type": "stream",
     "text": [
      "23\n",
      "20\n",
      "60\n"
     ]
    }
   ],
   "source": [
    "p=20\n",
    "p+=3\n",
    "print(p)\n",
    "p-=3\n",
    "print(p)\n",
    "p*=3\n",
    "print(p)"
   ]
  },
  {
   "cell_type": "markdown",
   "id": "231b0922",
   "metadata": {},
   "source": [
    "# Advanced Assignment operator:\n",
    "### Modulus and Assign(%=).\n",
    "### Exponent and Assign(*=).\n",
    "### Floor and Assign(//=)."
   ]
  },
  {
   "cell_type": "code",
   "execution_count": 12,
   "id": "20da8a9a",
   "metadata": {},
   "outputs": [
    {
     "name": "stdout",
     "output_type": "stream",
     "text": [
      "This is the value of modulo 1\n",
      "This is the value of exponent and assign 0\n"
     ]
    }
   ],
   "source": [
    "q=10\n",
    "q%=3\n",
    "print(\"This is the value of modulo\",q)\n",
    "q//=7\n",
    "print(\"This is the value of exponent and assign\",q)"
   ]
  },
  {
   "cell_type": "markdown",
   "id": "1c515d1b",
   "metadata": {},
   "source": [
    "# Comparison Operators:\n",
    "### ==: Equal to.\n",
    "### !=:Not Equal to.\n",
    "### <:Less than.\n",
    "### <=:Less than Equal to.\n",
    "### >:Greater than.\n",
    "### >=:Greater than Equal to.\n"
   ]
  },
  {
   "cell_type": "markdown",
   "id": "c00ebe57",
   "metadata": {},
   "source": [
    "# Logical Operator:-\n",
    "\n",
    "## Basic Logical Operator:-\n",
    "### not(negate condition),or(either condition),and(both condition).\n",
    "\n",
    "\n",
    "## Truthiness vs Equality:-\n",
    "### If you check the truthiness of an empty string using builtin function bool(\"\"), you will find it as zero."
   ]
  },
  {
   "cell_type": "code",
   "execution_count": 1,
   "id": "77734db1",
   "metadata": {},
   "outputs": [
    {
     "data": {
      "text/plain": [
       "False"
      ]
     },
     "execution_count": 1,
     "metadata": {},
     "output_type": "execute_result"
    }
   ],
   "source": [
    "a=\"\"\n",
    "bool(a)"
   ]
  },
  {
   "cell_type": "markdown",
   "id": "343bbd45",
   "metadata": {},
   "source": [
    "### However, if you check the equality with the equality operator ,you will get confused, as both statements will be false:"
   ]
  },
  {
   "cell_type": "code",
   "execution_count": 7,
   "id": "090444eb",
   "metadata": {},
   "outputs": [
    {
     "name": "stdout",
     "output_type": "stream",
     "text": [
      "False\n",
      "True\n"
     ]
    }
   ],
   "source": [
    "print(a ==False)\n",
    "print(a !=False)"
   ]
  },
  {
   "cell_type": "code",
   "execution_count": null,
   "id": "84a8f366",
   "metadata": {},
   "outputs": [],
   "source": [
    "x=10;y=20;z=11\n",
    "x>10\n"
   ]
  },
  {
   "cell_type": "code",
   "execution_count": 11,
   "id": "e4f44074",
   "metadata": {},
   "outputs": [
    {
     "data": {
      "text/plain": [
       "True"
      ]
     },
     "execution_count": 11,
     "metadata": {},
     "output_type": "execute_result"
    }
   ],
   "source": [
    "y<21\n"
   ]
  },
  {
   "cell_type": "code",
   "execution_count": 13,
   "id": "ff34db71",
   "metadata": {},
   "outputs": [
    {
     "data": {
      "text/plain": [
       "True"
      ]
     },
     "execution_count": 13,
     "metadata": {},
     "output_type": "execute_result"
    }
   ],
   "source": [
    "(x>5) or (y<10) or(z>29)"
   ]
  },
  {
   "cell_type": "code",
   "execution_count": 14,
   "id": "c4832572",
   "metadata": {},
   "outputs": [
    {
     "data": {
      "text/plain": [
       "False"
      ]
     },
     "execution_count": 14,
     "metadata": {},
     "output_type": "execute_result"
    }
   ],
   "source": [
    "(x>5) and (y<10) and (z>29)"
   ]
  },
  {
   "cell_type": "markdown",
   "id": "18ba7f48",
   "metadata": {},
   "source": [
    "# Basic Identity Operator:-\n",
    "#### Identity- This is the operator that checks if the variables(objects)are same  vs Equality- This operator checks whether the values are same.\n",
    "####"
   ]
  },
  {
   "cell_type": "code",
   "execution_count": 10,
   "id": "d2add34c",
   "metadata": {},
   "outputs": [],
   "source": [
    "x=1000\n",
    "y=1000\n"
   ]
  },
  {
   "cell_type": "code",
   "execution_count": 11,
   "id": "d52f0a0f",
   "metadata": {},
   "outputs": [
    {
     "name": "stdout",
     "output_type": "stream",
     "text": [
      "True\n"
     ]
    }
   ],
   "source": [
    "print(x==y) ##Equality operator, comparing values.\n"
   ]
  },
  {
   "cell_type": "code",
   "execution_count": 12,
   "id": "6f800808",
   "metadata": {},
   "outputs": [
    {
     "name": "stdout",
     "output_type": "stream",
     "text": [
      "False\n"
     ]
    }
   ],
   "source": [
    "print(x is y) ##Identity operator, comparing variables(objects)"
   ]
  },
  {
   "cell_type": "code",
   "execution_count": null,
   "id": "29657b2a",
   "metadata": {},
   "outputs": [],
   "source": [
    "id(x)"
   ]
  },
  {
   "cell_type": "code",
   "execution_count": 9,
   "id": "dc4f9b34",
   "metadata": {},
   "outputs": [
    {
     "data": {
      "text/plain": [
       "2249998554576"
      ]
     },
     "execution_count": 9,
     "metadata": {},
     "output_type": "execute_result"
    }
   ],
   "source": [
    "id(y)"
   ]
  },
  {
   "cell_type": "code",
   "execution_count": 13,
   "id": "4996335a",
   "metadata": {},
   "outputs": [],
   "source": [
    "A=10;B=10"
   ]
  },
  {
   "cell_type": "code",
   "execution_count": 15,
   "id": "1bd196d5",
   "metadata": {},
   "outputs": [
    {
     "name": "stdout",
     "output_type": "stream",
     "text": [
      "True\n"
     ]
    },
    {
     "data": {
      "text/plain": [
       "2249998363216"
      ]
     },
     "execution_count": 15,
     "metadata": {},
     "output_type": "execute_result"
    }
   ],
   "source": [
    "print(A is B)\n",
    "id(A)\n",
    "id(B)"
   ]
  },
  {
   "cell_type": "markdown",
   "id": "9f820750",
   "metadata": {},
   "source": [
    "# Note:- If we take any value between -5 to 256 then it will refer to a same memory address, values greater than 256 and less than -5 will have a different memory address "
   ]
  },
  {
   "cell_type": "code",
   "execution_count": 21,
   "id": "ce4a109a",
   "metadata": {},
   "outputs": [
    {
     "name": "stdout",
     "output_type": "stream",
     "text": [
      "False\n"
     ]
    },
    {
     "data": {
      "text/plain": [
       "2249998362992"
      ]
     },
     "execution_count": 21,
     "metadata": {},
     "output_type": "execute_result"
    }
   ],
   "source": [
    "var1=3\n",
    "var2=5\n",
    "print(var1 is var2)\n",
    "id(var1)"
   ]
  },
  {
   "cell_type": "code",
   "execution_count": 20,
   "id": "6a93f47f",
   "metadata": {},
   "outputs": [
    {
     "data": {
      "text/plain": [
       "2249998363056"
      ]
     },
     "execution_count": 20,
     "metadata": {},
     "output_type": "execute_result"
    }
   ],
   "source": [
    "id(var2)"
   ]
  },
  {
   "cell_type": "markdown",
   "id": "eaab2be3",
   "metadata": {},
   "source": [
    "### Membership Operator:- These operators are used to identify whether or not s sequence is present in anouther or not."
   ]
  },
  {
   "cell_type": "code",
   "execution_count": 22,
   "id": "45828f18",
   "metadata": {},
   "outputs": [],
   "source": [
    "x=\"Live your life ,live your dreams\"\n",
    "y=\"dreams\""
   ]
  },
  {
   "cell_type": "code",
   "execution_count": 24,
   "id": "415c38b8",
   "metadata": {},
   "outputs": [
    {
     "name": "stdout",
     "output_type": "stream",
     "text": [
      "False\n",
      "True\n"
     ]
    }
   ],
   "source": [
    "print(x in y)\n",
    "print(y in x)"
   ]
  },
  {
   "cell_type": "markdown",
   "id": "f94ef9b0",
   "metadata": {},
   "source": [
    "## Bitwise Operator:-\n",
    "### Operations: bitwise and(&),bitwise or(|),bitwise negate(~),bitwiseXOR(^),shift right(>>),shift left(<<)."
   ]
  },
  {
   "cell_type": "code",
   "execution_count": 1,
   "id": "81871bc7",
   "metadata": {},
   "outputs": [],
   "source": [
    "x=3"
   ]
  },
  {
   "cell_type": "code",
   "execution_count": 2,
   "id": "8f7010b2",
   "metadata": {},
   "outputs": [
    {
     "data": {
      "text/plain": [
       "'0b11'"
      ]
     },
     "execution_count": 2,
     "metadata": {},
     "output_type": "execute_result"
    }
   ],
   "source": [
    "bin(x)"
   ]
  },
  {
   "cell_type": "code",
   "execution_count": 3,
   "id": "a2568e84",
   "metadata": {},
   "outputs": [
    {
     "data": {
      "text/plain": [
       "'0b100'"
      ]
     },
     "execution_count": 3,
     "metadata": {},
     "output_type": "execute_result"
    }
   ],
   "source": [
    "y=4\n",
    "bin(y)"
   ]
  },
  {
   "cell_type": "code",
   "execution_count": 4,
   "id": "0de63676",
   "metadata": {},
   "outputs": [
    {
     "name": "stdout",
     "output_type": "stream",
     "text": [
      "7\n"
     ]
    }
   ],
   "source": [
    "z=x|y\n",
    "print(z)"
   ]
  },
  {
   "cell_type": "code",
   "execution_count": 5,
   "id": "44eff322",
   "metadata": {},
   "outputs": [
    {
     "name": "stdout",
     "output_type": "stream",
     "text": [
      "0b111\n"
     ]
    }
   ],
   "source": [
    "print(bin(z))"
   ]
  },
  {
   "cell_type": "markdown",
   "id": "4c9efbf0",
   "metadata": {},
   "source": [
    "# 100 bin(4)\n",
    "#  011 bin(3)\n",
    "# |-------\n",
    "#  111 bin(7)\n"
   ]
  },
  {
   "cell_type": "code",
   "execution_count": 12,
   "id": "e0da7837",
   "metadata": {},
   "outputs": [],
   "source": [
    "a=12\n",
    "\n",
    "b=14\n",
    "\n",
    "c=a&b"
   ]
  },
  {
   "cell_type": "code",
   "execution_count": 13,
   "id": "cab2d1c0",
   "metadata": {},
   "outputs": [
    {
     "data": {
      "text/plain": [
       "'0b1110'"
      ]
     },
     "execution_count": 13,
     "metadata": {},
     "output_type": "execute_result"
    }
   ],
   "source": [
    "bin(b)\n"
   ]
  },
  {
   "cell_type": "code",
   "execution_count": 14,
   "id": "fd0beb34",
   "metadata": {},
   "outputs": [
    {
     "data": {
      "text/plain": [
       "'0b1100'"
      ]
     },
     "execution_count": 14,
     "metadata": {},
     "output_type": "execute_result"
    }
   ],
   "source": [
    "bin(a)"
   ]
  },
  {
   "cell_type": "code",
   "execution_count": 8,
   "id": "5c3b2b68",
   "metadata": {},
   "outputs": [
    {
     "data": {
      "text/plain": [
       "'0b1100'"
      ]
     },
     "execution_count": 8,
     "metadata": {},
     "output_type": "execute_result"
    }
   ],
   "source": [
    "bin(c)"
   ]
  },
  {
   "cell_type": "markdown",
   "id": "815ed95b",
   "metadata": {},
   "source": [
    "### bin(14)   1110\n",
    "### bin(12)   1100\n",
    "### &----------------------\n",
    "### bin(12)   1100"
   ]
  },
  {
   "cell_type": "code",
   "execution_count": 17,
   "id": "be6d5b8b",
   "metadata": {},
   "outputs": [
    {
     "data": {
      "text/plain": [
       "'0b10100'"
      ]
     },
     "execution_count": 17,
     "metadata": {},
     "output_type": "execute_result"
    }
   ],
   "source": [
    "p=20\n",
    "bin(p)"
   ]
  },
  {
   "cell_type": "code",
   "execution_count": 18,
   "id": "b4c3259b",
   "metadata": {},
   "outputs": [
    {
     "data": {
      "text/plain": [
       "'-0b10101'"
      ]
     },
     "execution_count": 18,
     "metadata": {},
     "output_type": "execute_result"
    }
   ],
   "source": [
    "bin(~p)"
   ]
  },
  {
   "cell_type": "code",
   "execution_count": 20,
   "id": "d23432c0",
   "metadata": {},
   "outputs": [
    {
     "name": "stdout",
     "output_type": "stream",
     "text": [
      "20\n",
      "-21\n"
     ]
    }
   ],
   "source": [
    "print(p)\n",
    "print(~p)"
   ]
  },
  {
   "cell_type": "code",
   "execution_count": 21,
   "id": "f2a28400",
   "metadata": {},
   "outputs": [
    {
     "data": {
      "text/plain": [
       "'0b1100'"
      ]
     },
     "execution_count": 21,
     "metadata": {},
     "output_type": "execute_result"
    }
   ],
   "source": [
    "q=12\n",
    "r=17\n",
    "bin(q)"
   ]
  },
  {
   "cell_type": "code",
   "execution_count": 22,
   "id": "354ccf3b",
   "metadata": {},
   "outputs": [
    {
     "data": {
      "text/plain": [
       "'0b10001'"
      ]
     },
     "execution_count": 22,
     "metadata": {},
     "output_type": "execute_result"
    }
   ],
   "source": [
    "bin(r)"
   ]
  },
  {
   "cell_type": "code",
   "execution_count": 25,
   "id": "f46620aa",
   "metadata": {},
   "outputs": [
    {
     "name": "stdout",
     "output_type": "stream",
     "text": [
      "29\n"
     ]
    },
    {
     "data": {
      "text/plain": [
       "'0b11101'"
      ]
     },
     "execution_count": 25,
     "metadata": {},
     "output_type": "execute_result"
    }
   ],
   "source": [
    "print(q^r)\n",
    "bin(29)"
   ]
  },
  {
   "cell_type": "code",
   "execution_count": null,
   "id": "525f8068",
   "metadata": {},
   "outputs": [],
   "source": []
  }
 ],
 "metadata": {
  "kernelspec": {
   "display_name": "Python 3 (ipykernel)",
   "language": "python",
   "name": "python3"
  },
  "language_info": {
   "codemirror_mode": {
    "name": "ipython",
    "version": 3
   },
   "file_extension": ".py",
   "mimetype": "text/x-python",
   "name": "python",
   "nbconvert_exporter": "python",
   "pygments_lexer": "ipython3",
   "version": "3.9.7"
  }
 },
 "nbformat": 4,
 "nbformat_minor": 5
}
