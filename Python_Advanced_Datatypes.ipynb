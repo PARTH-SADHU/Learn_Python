{
 "cells": [
  {
   "cell_type": "markdown",
   "id": "13abcc09",
   "metadata": {},
   "source": [
    "# Python Advance data types:-\n",
    "## 1.Lists: The list is the collection of items of different datatypes. It is an ordered sequence of data items.A list object contains one or more items ,not necessarily of same type,which are seperated by commas and enclosed in brackets[].  SYNTAX- list=[val1,val2,val3,........,valn]\n",
    "\n",
    "\n",
    "## We can store multiple data/objects in a same single variable!,in short list is the collection of any type of datatypes."
   ]
  },
  {
   "cell_type": "code",
   "execution_count": 3,
   "id": "b2851f89",
   "metadata": {},
   "outputs": [
    {
     "name": "stdout",
     "output_type": "stream",
     "text": [
      "1\n"
     ]
    },
    {
     "data": {
      "text/plain": [
       "4343.54"
      ]
     },
     "execution_count": 3,
     "metadata": {},
     "output_type": "execute_result"
    }
   ],
   "source": [
    "list1=[1,\"supremelord\",4343.54,\"godsgrace\",True,False]\n",
    "list1[3]\n",
    "print(list1[0])\n",
    "list1[2]"
   ]
  },
  {
   "cell_type": "code",
   "execution_count": 15,
   "id": "11c9f248",
   "metadata": {},
   "outputs": [
    {
     "name": "stdout",
     "output_type": "stream",
     "text": [
      "[254, 54, 1, 565]\n",
      "565\n",
      "[1, 1, 6, 6, 21, 34, 54, 254, 565]\n"
     ]
    }
   ],
   "source": [
    "list_1=[21,34,6,6,1,254,54,1,565]\n",
    "last_4=list_1[-4:]\n",
    "print(last_4)\n",
    "max_list=max(list_1)\n",
    "print(max_list)\n",
    "sorted_l=sorted(list_1)\n",
    "print(sorted_l)"
   ]
  },
  {
   "cell_type": "markdown",
   "id": "d9e14418",
   "metadata": {},
   "source": [
    "### List slicing and indexing:-"
   ]
  },
  {
   "cell_type": "code",
   "execution_count": null,
   "id": "eb470e4f",
   "metadata": {},
   "outputs": [],
   "source": []
  },
  {
   "cell_type": "markdown",
   "id": "8cf19519",
   "metadata": {},
   "source": [
    "## Tuples: Tuple is a collection of different python data types, same  as that of lists. Unlike the list , tuple is immutable(values cant be altered). The tuple object contains one or more items ,of the same of different types,seperated by comma and enclosed within parenthesis().\n",
    "## SYNTAX- Tuple=(val1,val2,val3,......,valn)"
   ]
  },
  {
   "cell_type": "code",
   "execution_count": 2,
   "id": "a0cbe7a3",
   "metadata": {},
   "outputs": [
    {
     "data": {
      "text/plain": [
       "'python'"
      ]
     },
     "execution_count": 2,
     "metadata": {},
     "output_type": "execute_result"
    }
   ],
   "source": [
    "tup1=(1,3,6,\"python\",3234.5,True,\"gangsign\",\"moosetape\")\n",
    "tup1[1]\n",
    "tup1[3]"
   ]
  },
  {
   "cell_type": "markdown",
   "id": "49f72060",
   "metadata": {},
   "source": [
    "# Sets: Set is a collection of data types in python, same as that of list and tuples.However, it is not an ordered collection of objects .A set object performs mathematical set operations like union, intersection ,difference ,etc. A set object contains one or more items, not necessarily of same type,which are seperated by comma and enclosed by brackets{}.\n",
    "### SYNTAX- set={val1,val2,val3,......,valn}\n",
    "\n",
    "\n",
    "# NOTE- A set doesnt store duplicate values or objects.Even if the object is added more than once inside the curly brackets ,only one copy is held in the set object .Hence ,indexing and slicing operations cannot be done on the  set object.\n",
    "\n",
    "\n",
    "## Sets have a special case of list where the elements can only be unique, sets cannot be indexed ,they dont have any order and are mutable(which means that its value can be changed). "
   ]
  },
  {
   "cell_type": "code",
   "execution_count": 7,
   "id": "3dcddf18",
   "metadata": {},
   "outputs": [
    {
     "name": "stdout",
     "output_type": "stream",
     "text": [
      "{1, 2, 3, 4, 5, 6, 7, 8, 43}\n"
     ]
    }
   ],
   "source": [
    "set={1,3,4,2,2,1,2,3,5,6,7,8,43}\n",
    "print(set)\n"
   ]
  },
  {
   "cell_type": "markdown",
   "id": "92902bdb",
   "metadata": {},
   "source": [
    "# We add and delete elements from set using several functions which are add for addition and pop for removing elements.POP function in sets works like stack i.e. it removes last element addded to memory as sets are unordered and have no index."
   ]
  },
  {
   "cell_type": "code",
   "execution_count": 8,
   "id": "6a7afde7",
   "metadata": {},
   "outputs": [
    {
     "name": "stdout",
     "output_type": "stream",
     "text": [
      "{2, 1, 'new_elemennt', 56, 43, 12, 'sdjgn'}\n"
     ]
    }
   ],
   "source": [
    "set_1={1,43,65,2,12,\"sdjgn\",56}\n",
    "set_1.add(\"new_elemennt\")\n",
    "set_1.pop()\n",
    "print(set_1)\n",
    "\n"
   ]
  },
  {
   "cell_type": "markdown",
   "id": "61d89e5c",
   "metadata": {},
   "source": [
    "# Dictionary: Like list and tuple ,dict is also a collection type. However, it is not an ordered sequence ,and it contains key-value pairs. SYNTAX:-{key1:value1,key2:value2,.......,keyn:valuen}"
   ]
  },
  {
   "cell_type": "code",
   "execution_count": 18,
   "id": "7e846ad1",
   "metadata": {},
   "outputs": [
    {
     "name": "stdout",
     "output_type": "stream",
     "text": [
      "parth\n",
      "['noob', 21, 54, 5, 'yash']\n",
      "True\n"
     ]
    }
   ],
   "source": [
    "my_dict={1:\"vraj\",2:\"parth\",3:[\"noob\",21,54,5,\"yash\"],4:\"harit\",5:\"krshna\"}\n",
    "print(my_dict[2])\n",
    "print(my_dict[3])\n",
    "print(5 in my_dict)\n",
    "my_dict.get(1)\n",
    "my_dict.get(5)\n",
    "my_dict.get(10)"
   ]
  },
  {
   "cell_type": "code",
   "execution_count": 7,
   "id": "d3fee37c",
   "metadata": {},
   "outputs": [
    {
     "data": {
      "text/plain": [
       "'295'"
      ]
     },
     "execution_count": 7,
     "metadata": {},
     "output_type": "execute_result"
    }
   ],
   "source": [
    "List=[{1:[\"parth\",\"yash\",\"legend\"]},[2,(2,4,2,11,3),32,32],\"295\"]\n",
    "List[0][1][1]\n",
    "List[1][1]\n",
    "List[2]"
   ]
  },
  {
   "cell_type": "code",
   "execution_count": null,
   "id": "801e1873",
   "metadata": {},
   "outputs": [],
   "source": []
  }
 ],
 "metadata": {
  "kernelspec": {
   "display_name": "Python 3 (ipykernel)",
   "language": "python",
   "name": "python3"
  },
  "language_info": {
   "codemirror_mode": {
    "name": "ipython",
    "version": 3
   },
   "file_extension": ".py",
   "mimetype": "text/x-python",
   "name": "python",
   "nbconvert_exporter": "python",
   "pygments_lexer": "ipython3",
   "version": "3.9.7"
  }
 },
 "nbformat": 4,
 "nbformat_minor": 5
}
