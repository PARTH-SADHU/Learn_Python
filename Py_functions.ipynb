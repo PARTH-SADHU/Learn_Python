{
 "cells": [
  {
   "cell_type": "markdown",
   "id": "7726e881",
   "metadata": {},
   "source": [
    "# Python Functions:Basic definition of function can be it take some inputs, do some logic on them and return an output.\n",
    "\n"
   ]
  },
  {
   "cell_type": "code",
   "execution_count": 1,
   "id": "ecf0bb71",
   "metadata": {},
   "outputs": [],
   "source": [
    "def helloworld():\n",
    "    print(\"Hello World\")"
   ]
  },
  {
   "cell_type": "code",
   "execution_count": 3,
   "id": "efd3296b",
   "metadata": {},
   "outputs": [],
   "source": [
    "def addition(a,b,c):\n",
    "    add=a+b+c\n",
    "    return add\n",
    "    "
   ]
  },
  {
   "cell_type": "code",
   "execution_count": 4,
   "id": "0c94aa53",
   "metadata": {},
   "outputs": [
    {
     "data": {
      "text/plain": [
       "12"
      ]
     },
     "execution_count": 4,
     "metadata": {},
     "output_type": "execute_result"
    }
   ],
   "source": [
    "addition(4,6,2)"
   ]
  },
  {
   "cell_type": "code",
   "execution_count": 5,
   "id": "8ada0dd4",
   "metadata": {},
   "outputs": [],
   "source": [
    "def multiply(a,b,c):\n",
    "    mul=a*b*c\n",
    "    return mul\n"
   ]
  },
  {
   "cell_type": "code",
   "execution_count": 6,
   "id": "7af035eb",
   "metadata": {},
   "outputs": [
    {
     "data": {
      "text/plain": [
       "75"
      ]
     },
     "execution_count": 6,
     "metadata": {},
     "output_type": "execute_result"
    }
   ],
   "source": [
    "multiply(5,3,5)"
   ]
  },
  {
   "cell_type": "code",
   "execution_count": 7,
   "id": "e7d14a07",
   "metadata": {},
   "outputs": [],
   "source": [
    "def raisetopower(a,b):\n",
    "    result=a**b\n",
    "    return result"
   ]
  },
  {
   "cell_type": "code",
   "execution_count": 8,
   "id": "ae0a4403",
   "metadata": {},
   "outputs": [
    {
     "data": {
      "text/plain": [
       "16"
      ]
     },
     "execution_count": 8,
     "metadata": {},
     "output_type": "execute_result"
    }
   ],
   "source": [
    "raisetopower(4,2)"
   ]
  },
  {
   "cell_type": "code",
   "execution_count": 16,
   "id": "ea82238c",
   "metadata": {},
   "outputs": [],
   "source": [
    "students_names = [\"parth\",\"vraj\",\"virat\",\"yash\",\"shubh\",\"guri\"]\n",
    "\n",
    "students_grades = [43,76, 80 , 53 ,90, 100]\n",
    "\n",
    "def link_name_grades(students_names,students_grades):\n",
    "    name_grades={}\n",
    "    for name,grade in zip(students_names,students_grades):\n",
    "        name_grades[name]=grade\n",
    "    print(name_grades)"
   ]
  },
  {
   "cell_type": "code",
   "execution_count": 17,
   "id": "db0d4cd4",
   "metadata": {},
   "outputs": [
    {
     "name": "stdout",
     "output_type": "stream",
     "text": [
      "{'parth': 43, 'vraj': 76, 'virat': 80, 'yash': 53, 'shubh': 90, 'guri': 100}\n"
     ]
    }
   ],
   "source": [
    "link_name_grades([\"parth\",\"vraj\",\"virat\",\"yash\",\"shubh\",\"guri\"],[43,76, 80 , 53 ,90, 100])"
   ]
  },
  {
   "cell_type": "markdown",
   "id": "3f9012a7",
   "metadata": {},
   "source": [
    "# Scope of variable: Local & Global."
   ]
  },
  {
   "cell_type": "markdown",
   "id": "e8c9c594",
   "metadata": {},
   "source": [
    "# Local variables can be accessed and modified in certain piece of code. whereas local variable can be accessed from anywhere in the code."
   ]
  },
  {
   "cell_type": "code",
   "execution_count": 18,
   "id": "6e2cca71",
   "metadata": {},
   "outputs": [],
   "source": [
    "def multiply(x,y):\n",
    "    result=x*y\n",
    "    return result"
   ]
  },
  {
   "cell_type": "code",
   "execution_count": 19,
   "id": "78f65a01",
   "metadata": {},
   "outputs": [
    {
     "data": {
      "text/plain": [
       "5"
      ]
     },
     "execution_count": 19,
     "metadata": {},
     "output_type": "execute_result"
    }
   ],
   "source": [
    "multiply(1,5)"
   ]
  },
  {
   "cell_type": "code",
   "execution_count": 21,
   "id": "a9f98e5c",
   "metadata": {},
   "outputs": [
    {
     "ename": "NameError",
     "evalue": "name 'result' is not defined",
     "output_type": "error",
     "traceback": [
      "\u001b[1;31m---------------------------------------------------------------------------\u001b[0m",
      "\u001b[1;31mNameError\u001b[0m                                 Traceback (most recent call last)",
      "\u001b[1;32m~\\AppData\\Local\\Temp/ipykernel_12068/2345744219.py\u001b[0m in \u001b[0;36m<module>\u001b[1;34m\u001b[0m\n\u001b[1;32m----> 1\u001b[1;33m \u001b[0mprint\u001b[0m\u001b[1;33m(\u001b[0m\u001b[0mresult\u001b[0m\u001b[1;33m)\u001b[0m\u001b[1;33m\u001b[0m\u001b[1;33m\u001b[0m\u001b[0m\n\u001b[0m\u001b[0;32m      2\u001b[0m \u001b[1;31m##As result is a local variable which can be accessed only in local parts of the code or which has its existence locally.\u001b[0m\u001b[1;33m\u001b[0m\u001b[1;33m\u001b[0m\u001b[0m\n",
      "\u001b[1;31mNameError\u001b[0m: name 'result' is not defined"
     ]
    }
   ],
   "source": [
    "print(result) \n",
    "##As result is a local variable which can be accessed only in local parts of the code or which has its existence locally.\n"
   ]
  },
  {
   "cell_type": "code",
   "execution_count": 29,
   "id": "7b36154b",
   "metadata": {},
   "outputs": [],
   "source": [
    "global answer\n",
    "\n",
    "def addition(a,b):\n",
    "    answer=a+b\n",
    "    return answer"
   ]
  },
  {
   "cell_type": "code",
   "execution_count": 30,
   "id": "7a1f9268",
   "metadata": {},
   "outputs": [
    {
     "data": {
      "text/plain": [
       "7"
      ]
     },
     "execution_count": 30,
     "metadata": {},
     "output_type": "execute_result"
    }
   ],
   "source": [
    "addition(2,5)"
   ]
  },
  {
   "cell_type": "code",
   "execution_count": 31,
   "id": "c8c058b9",
   "metadata": {},
   "outputs": [
    {
     "name": "stdout",
     "output_type": "stream",
     "text": [
      "7\n"
     ]
    }
   ],
   "source": [
    "print(answer)"
   ]
  },
  {
   "cell_type": "code",
   "execution_count": null,
   "id": "4c47237d",
   "metadata": {},
   "outputs": [],
   "source": []
  }
 ],
 "metadata": {
  "kernelspec": {
   "display_name": "Python 3 (ipykernel)",
   "language": "python",
   "name": "python3"
  },
  "language_info": {
   "codemirror_mode": {
    "name": "ipython",
    "version": 3
   },
   "file_extension": ".py",
   "mimetype": "text/x-python",
   "name": "python",
   "nbconvert_exporter": "python",
   "pygments_lexer": "ipython3",
   "version": "3.9.7"
  }
 },
 "nbformat": 4,
 "nbformat_minor": 5
}
