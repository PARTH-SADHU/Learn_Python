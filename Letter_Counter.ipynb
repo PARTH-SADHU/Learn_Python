{
 "cells": [
  {
   "cell_type": "markdown",
   "id": "823983a8",
   "metadata": {},
   "source": [
    "# Letter Counter :-\n",
    "#### Q- 1:Print a welcome message to the user:\n",
    "#### Q- 2:Take input string from the user and a letter:\n",
    "#### Q- 3:Count how many times this letter has occured:\n",
    "#### Q- 4:Calculate the percentage of the occurence of that letter:\n",
    "#### Q- 5:Print all the output to the user:\n"
   ]
  },
  {
   "cell_type": "markdown",
   "id": "152ae014",
   "metadata": {},
   "source": [
    "# Printing a Welcome message:-"
   ]
  },
  {
   "cell_type": "code",
   "execution_count": 6,
   "id": "eca0fc36",
   "metadata": {},
   "outputs": [
    {
     "name": "stdout",
     "output_type": "stream",
     "text": [
      "Hello ,hope you are doing well\n"
     ]
    }
   ],
   "source": [
    "print(\"Hello ,hope you are doing well\")\n",
    "\n",
    "\n"
   ]
  },
  {
   "cell_type": "markdown",
   "id": "e6810b10",
   "metadata": {},
   "source": [
    "# Taking the input strings and character from the user:-"
   ]
  },
  {
   "cell_type": "code",
   "execution_count": 7,
   "id": "3c23e093",
   "metadata": {},
   "outputs": [
    {
     "name": "stdout",
     "output_type": "stream",
     "text": [
      "Enter the String you want to-Believe in you and you can do anything boo.\n",
      "Enter the character you want to count from the entered string-a\n",
      "Believe in you and you can do anything boo.\n",
      "a\n"
     ]
    }
   ],
   "source": [
    "inp_str=input(\"Enter the String you want to-\")\n",
    "inp_char=input(\"Enter the character you want to count from the entered string-\")\n",
    "\n",
    "print(inp_str)\n",
    "print(inp_char)"
   ]
  },
  {
   "cell_type": "markdown",
   "id": "1eb7297d",
   "metadata": {},
   "source": [
    "# Counting the occurences of the entered character:-"
   ]
  },
  {
   "cell_type": "code",
   "execution_count": 8,
   "id": "8c053686",
   "metadata": {},
   "outputs": [
    {
     "name": "stdout",
     "output_type": "stream",
     "text": [
      "3\n"
     ]
    }
   ],
   "source": [
    "count_char=inp_str.count(inp_char)\n",
    "#print(count_char)"
   ]
  },
  {
   "cell_type": "markdown",
   "id": "4afe95f6",
   "metadata": {},
   "source": [
    "# Calculating the average of occurence of the character:-"
   ]
  },
  {
   "cell_type": "code",
   "execution_count": 15,
   "id": "f14d0101",
   "metadata": {},
   "outputs": [],
   "source": [
    "avg_char=count_char/len(inp_str)\n",
    "total_avg=avg_char*100\n"
   ]
  },
  {
   "cell_type": "markdown",
   "id": "23e325fb",
   "metadata": {},
   "source": [
    "# Printing the final output to the user:-"
   ]
  },
  {
   "cell_type": "code",
   "execution_count": 18,
   "id": "415bc700",
   "metadata": {},
   "outputs": [
    {
     "name": "stdout",
     "output_type": "stream",
     "text": [
      "3\n",
      "6.976744186046512\n"
     ]
    }
   ],
   "source": [
    "print(count_char)\n",
    "print(total_avg)"
   ]
  },
  {
   "cell_type": "code",
   "execution_count": null,
   "id": "b946871f",
   "metadata": {},
   "outputs": [],
   "source": []
  }
 ],
 "metadata": {
  "kernelspec": {
   "display_name": "Python 3 (ipykernel)",
   "language": "python",
   "name": "python3"
  },
  "language_info": {
   "codemirror_mode": {
    "name": "ipython",
    "version": 3
   },
   "file_extension": ".py",
   "mimetype": "text/x-python",
   "name": "python",
   "nbconvert_exporter": "python",
   "pygments_lexer": "ipython3",
   "version": "3.9.7"
  }
 },
 "nbformat": 4,
 "nbformat_minor": 5
}
