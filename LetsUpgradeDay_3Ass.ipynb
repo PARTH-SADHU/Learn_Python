{
  "nbformat": 4,
  "nbformat_minor": 0,
  "metadata": {
    "colab": {
      "provenance": [],
      "authorship_tag": "ABX9TyMTHbbFqeR/geYZU+jUHNdU",
      "include_colab_link": true
    },
    "kernelspec": {
      "name": "python3",
      "display_name": "Python 3"
    },
    "language_info": {
      "name": "python"
    }
  },
  "cells": [
    {
      "cell_type": "markdown",
      "metadata": {
        "id": "view-in-github",
        "colab_type": "text"
      },
      "source": [
        "<a href=\"https://colab.research.google.com/github/PARTH-SADHU/Learn_Python/blob/main/LetsUpgradeDay_3Ass.ipynb\" target=\"_parent\"><img src=\"https://colab.research.google.com/assets/colab-badge.svg\" alt=\"Open In Colab\"/></a>"
      ]
    },
    {
      "cell_type": "code",
      "execution_count": 1,
      "metadata": {
        "colab": {
          "base_uri": "https://localhost:8080/"
        },
        "id": "LKnJzopXVz83",
        "outputId": "63e8779d-e1b7-496f-cc83-789f3dc9aa84"
      },
      "outputs": [
        {
          "output_type": "stream",
          "name": "stdout",
          "text": [
            "Enter number of rows you want:- 5\n",
            "Enter number of columns you want:- 5\n",
            "[[0, 0, 0, 0, 0], [0, 1, 2, 3, 4], [0, 2, 4, 6, 8], [0, 3, 6, 9, 12], [0, 4, 8, 12, 16]]\n"
          ]
        }
      ],
      "source": [
        "row_index = int(input(\"Enter number of rows you want:- \"))\n",
        "col_index = int(input(\"Enter number of columns you want:- \"))\n",
        "twoDlist = [];\n",
        "for row in range(row_index):\n",
        "        twoDlist.append([])\n",
        "        for col in range(col_index):\n",
        "            twoDlist[row].append(row*col);\n",
        "            \n",
        "print(twoDlist)"
      ]
    },
    {
      "cell_type": "code",
      "source": [],
      "metadata": {
        "id": "gbOy5TmLV1J6"
      },
      "execution_count": null,
      "outputs": []
    }
  ]
}