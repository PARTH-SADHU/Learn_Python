{
 "cells": [
  {
   "cell_type": "code",
   "execution_count": 1,
   "id": "7421e7ee",
   "metadata": {},
   "outputs": [
    {
     "name": "stdout",
     "output_type": "stream",
     "text": [
      "This is String one\n"
     ]
    }
   ],
   "source": [
    "str_1=\"This is String one\"\n",
    "print(str_1)"
   ]
  },
  {
   "cell_type": "code",
   "execution_count": 3,
   "id": "b2c7eb32",
   "metadata": {},
   "outputs": [
    {
     "name": "stdout",
     "output_type": "stream",
     "text": [
      "BELIEVE IN YOURSELF AND YOU CAN DO ANYTHING\n"
     ]
    }
   ],
   "source": [
    "str_2=\"Believe in yourself and you can do anything\"\n",
    "print(str_2.upper())"
   ]
  },
  {
   "cell_type": "code",
   "execution_count": 5,
   "id": "541433b0",
   "metadata": {},
   "outputs": [
    {
     "name": "stdout",
     "output_type": "stream",
     "text": [
      "The value of X changes in a while which is 12\n"
     ]
    }
   ],
   "source": [
    "x=12\n",
    "str=f\"The value of X changes in a while which is {x}\"\n",
    "print(str)"
   ]
  },
  {
   "cell_type": "code",
   "execution_count": 9,
   "id": "77d64e7b",
   "metadata": {},
   "outputs": [
    {
     "data": {
      "text/plain": [
       "'Vilen~ If i need help in my life then im sure that i dont get it as i will become the person who is capable of doing things on its own'"
      ]
     },
     "execution_count": 9,
     "metadata": {},
     "output_type": "execute_result"
    }
   ],
   "source": [
    "quote=\"{First_name} If i need help in my life then im sure that i dont get it as i will become the person who is capable of doing things on its own\"\n",
    "quote.format(First_name=\"Vilen~\")"
   ]
  },
  {
   "cell_type": "code",
   "execution_count": 11,
   "id": "17e54324",
   "metadata": {},
   "outputs": [
    {
     "name": "stdout",
     "output_type": "stream",
     "text": [
      "this is the value of y 10\n"
     ]
    }
   ],
   "source": [
    "y=10\n",
    "str=f\"this is the value of y {y}\"\n",
    "print(str)"
   ]
  },
  {
   "cell_type": "code",
   "execution_count": null,
   "id": "fa43ffb6",
   "metadata": {},
   "outputs": [],
   "source": []
  }
 ],
 "metadata": {
  "kernelspec": {
   "display_name": "Python 3 (ipykernel)",
   "language": "python",
   "name": "python3"
  },
  "language_info": {
   "codemirror_mode": {
    "name": "ipython",
    "version": 3
   },
   "file_extension": ".py",
   "mimetype": "text/x-python",
   "name": "python",
   "nbconvert_exporter": "python",
   "pygments_lexer": "ipython3",
   "version": "3.9.7"
  }
 },
 "nbformat": 4,
 "nbformat_minor": 5
}
