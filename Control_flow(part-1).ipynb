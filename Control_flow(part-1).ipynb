{
 "cells": [
  {
   "cell_type": "markdown",
   "id": "f74c9cb0",
   "metadata": {},
   "source": [
    "# --if else conditions\n"
   ]
  },
  {
   "cell_type": "code",
   "execution_count": 12,
   "id": "50b6589d",
   "metadata": {},
   "outputs": [],
   "source": [
    "x=10;y=20;z=15\n"
   ]
  },
  {
   "cell_type": "code",
   "execution_count": 14,
   "id": "6ac8ca93",
   "metadata": {},
   "outputs": [
    {
     "name": "stdout",
     "output_type": "stream",
     "text": [
      "Y is greater than Z\n"
     ]
    }
   ],
   "source": [
    "if x>y:\n",
    "    print(\"Value of x is greater than y\")\n",
    "elif y>z:\n",
    "    print(\"Y is greater than Z\")\n",
    "else:\n",
    "    print(\"Z is the largest\")\n",
    "    \n",
    "    "
   ]
  },
  {
   "cell_type": "markdown",
   "id": "34c30fe6",
   "metadata": {},
   "source": [
    "## Python program to calculate price and quantity and applies a 10% discount if the amount exceeds 1000."
   ]
  },
  {
   "cell_type": "code",
   "execution_count": 8,
   "id": "71850eb2",
   "metadata": {},
   "outputs": [
    {
     "name": "stdout",
     "output_type": "stream",
     "text": [
      "Enter the price of the product-199\n",
      "Enter the number of product you want-2\n"
     ]
    }
   ],
   "source": [
    "price =int(input(\"Enter the price of the product-\"))\n",
    "quantity=int(input(\"Enter the number of product you want-\"))\n"
   ]
  },
  {
   "cell_type": "code",
   "execution_count": 11,
   "id": "a0577fa0",
   "metadata": {},
   "outputs": [
    {
     "name": "stdout",
     "output_type": "stream",
     "text": [
      "Not eligible for discount: 398\n"
     ]
    }
   ],
   "source": [
    "total_amount=price*quantity\n",
    "if total_amount>1000:\n",
    "    print(\"Eligible for 10% discounts:\")\n",
    "    discount=total_amount*10/100\n",
    "    final_amount=total_amount-discount\n",
    "    print(final_amount)\n",
    "else:\n",
    "    print(\"Not eligible for discount:\",total_amount)"
   ]
  },
  {
   "cell_type": "markdown",
   "id": "63b68236",
   "metadata": {},
   "source": [
    "# For loop: for loop runs for specific pre-defined number of iterations.\n",
    "\n"
   ]
  },
  {
   "cell_type": "code",
   "execution_count": 24,
   "id": "6e1e720c",
   "metadata": {
    "scrolled": true
   },
   "outputs": [
    {
     "name": "stdout",
     "output_type": "stream",
     "text": [
      "BHOLENATH\n",
      "Lord Krishna\n",
      "Lord Hanumana\n",
      "Lord Ganpati\n"
     ]
    }
   ],
   "source": [
    "my_list=[\"BHOLENATH\",\"Lord Krishna\",\"Lord Hanumana\",\"Lord Ganpati\"]\n",
    "for i in my_list:\n",
    "    print(i)\n",
    "    "
   ]
  },
  {
   "cell_type": "code",
   "execution_count": 2,
   "id": "ff72f0e3",
   "metadata": {
    "scrolled": true
   },
   "outputs": [
    {
     "name": "stdout",
     "output_type": "stream",
     "text": [
      "0\n",
      "2\n",
      "4\n",
      "6\n",
      "8\n"
     ]
    }
   ],
   "source": [
    "for i in range(0,10,2):\n",
    "    print(i)"
   ]
  },
  {
   "cell_type": "code",
   "execution_count": 4,
   "id": "ef0496b0",
   "metadata": {
    "scrolled": true
   },
   "outputs": [
    {
     "name": "stdout",
     "output_type": "stream",
     "text": [
      "1\n",
      "20\n",
      "3\n"
     ]
    }
   ],
   "source": [
    "dict={1:10,20:5,3:2}\n",
    "\n",
    "for i in dict:\n",
    "    print(i)"
   ]
  },
  {
   "cell_type": "code",
   "execution_count": 5,
   "id": "ff031301",
   "metadata": {
    "scrolled": true
   },
   "outputs": [
    {
     "name": "stdout",
     "output_type": "stream",
     "text": [
      "0\n",
      "1\n",
      "2\n",
      "3\n",
      "4\n",
      "5\n",
      "6\n",
      "7\n",
      "8\n",
      "9\n",
      "10\n"
     ]
    }
   ],
   "source": [
    "number=0\n",
    "while number<=10:\n",
    "    print(number)\n",
    "    number+=1\n",
    "    "
   ]
  },
  {
   "cell_type": "code",
   "execution_count": 9,
   "id": "d31c5c00",
   "metadata": {},
   "outputs": [],
   "source": [
    "x=1;y=12;z=10\n",
    "\n",
    "if x>y and z>y:\n",
    "    print(\"both are true as and is used\")\n",
    "elif x>y or z>y:\n",
    "    print(\"both will be false if any of the one is not true as or is used\")\n"
   ]
  },
  {
   "cell_type": "code",
   "execution_count": 13,
   "id": "105be6f3",
   "metadata": {},
   "outputs": [
    {
     "name": "stdout",
     "output_type": "stream",
     "text": [
      "Enter the value of X:78\n",
      "Enter the value of Y:98\n",
      "Enter the value of Z:34\n",
      "Value of Y is greater than x and z which is- 98\n"
     ]
    }
   ],
   "source": [
    "x=int(input(\"Enter the value of X:\"))\n",
    "y=int(input(\"Enter the value of Y:\"))\n",
    "z=int(input(\"Enter the value of Z:\"))\n",
    "if x>y and x>z:\n",
    "    print(\"Value of X is greater than y and z which is-\",x)\n",
    "elif y>x and y>z:\n",
    "    print(\"Value of Y is greater than x and z which is-\",y)\n",
    "else:\n",
    "    print(\"Value of Z is greater than x and y which is-\",z)\n"
   ]
  },
  {
   "cell_type": "markdown",
   "id": "3ccd3033",
   "metadata": {},
   "source": [
    "## While Loop:This loop runs untilll the condition is no longer satisfied.\n"
   ]
  },
  {
   "cell_type": "code",
   "execution_count": 10,
   "id": "4fedbe19",
   "metadata": {},
   "outputs": [
    {
     "name": "stdout",
     "output_type": "stream",
     "text": [
      "10\n",
      "13\n",
      "17\n",
      "19\n",
      "22\n",
      "27\n",
      "59\n",
      "7\n"
     ]
    }
   ],
   "source": [
    "my_list=[10,3,4,2,3,5,32,21,32,43]\n",
    "\n",
    "index=0\n",
    "add_res=0\n",
    "\n",
    "while add_res<50:\n",
    "    add_res=add_res+my_list[index]\n",
    "    index=index+1\n",
    "    print(add_res)\n",
    "print(index)"
   ]
  },
  {
   "cell_type": "code",
   "execution_count": null,
   "id": "c802b946",
   "metadata": {},
   "outputs": [],
   "source": []
  },
  {
   "cell_type": "code",
   "execution_count": null,
   "id": "45769a73",
   "metadata": {},
   "outputs": [],
   "source": []
  }
 ],
 "metadata": {
  "kernelspec": {
   "display_name": "Python 3 (ipykernel)",
   "language": "python",
   "name": "python3"
  },
  "language_info": {
   "codemirror_mode": {
    "name": "ipython",
    "version": 3
   },
   "file_extension": ".py",
   "mimetype": "text/x-python",
   "name": "python",
   "nbconvert_exporter": "python",
   "pygments_lexer": "ipython3",
   "version": "3.9.7"
  }
 },
 "nbformat": 4,
 "nbformat_minor": 5
}
