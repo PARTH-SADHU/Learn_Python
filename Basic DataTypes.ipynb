{
 "cells": [
  {
   "cell_type": "markdown",
   "id": "149eec27",
   "metadata": {},
   "source": [
    "## Python DataTypes: "
   ]
  },
  {
   "cell_type": "markdown",
   "id": "3a3ea9bd",
   "metadata": {},
   "source": [
    "### Datatypes-They are the categorization of the data items.Data types represents a kind of value which determines what operations can be performed on that data.\n",
    "\n",
    "#### Numeric- Any representation of the data which has numeric value.\n",
    "#### Python identifies 3 types of numbers.\n",
    "#### 1-Integer:+ve or -ve whole number.\n",
    "#### 2-Float:Any real number that has a floating point representation in which a fractional component is denoted by a decimal symbol .\n",
    "#### 3-Complex number:A number with a real and imaginary component represented as x+yj. x and y are floats and j is -1.\n",
    "#### 4-Boolean:Data with one of the two built in values True or False.(NOTE- T AND F must be capital compulsory).\n",
    "#### 5-Sequence type-An ordered collection of similar or different data types.\n",
    "#### 6-String :A string value is a collection of one or more characters put in a single, double or triple quote.\n",
    "#### 7-List:A list is an ordered collection of one or more data items ,not necessarily of the same type , put in a square brackets.\n",
    "#### 8-Tuple:collection of one or more data items ,not necessarily of the same type , put in a square parentheses.\n",
    "#### 9-Dictionary: An unordered collection of data in key:value pair form enclosed in curly brackets.  EX- {1:\"parth\",1:\"parth\",1:\"parth\",1:\"parth\"}.\n",
    "#### 10-type() function:Python has in built function type() to ascertain the data type of certain value.\n",
    "#### 11-Mutable and Immutable Objects:Stored in the computers memory for processing .Number values, strings and tuples are immutable ,which means that their content  cant be altered after creation.On the otherhand ,collection of the items in a List or Dictionary object can be modified.It is possible to add,delete,insert and rearrange items in alist or dict whcih makes them mutable objects.\n",
    "\n"
   ]
  },
  {
   "cell_type": "markdown",
   "id": "93101b7a",
   "metadata": {},
   "source": [
    "### Python Variables:Anything we write in code is processed and stored in the memory.The memory addresses are not easy to deal with and remember, as it consist of billions of binary and hexadecimal numbers. So inorder to reuse a value, we need to have a reference for it.Variables are just the way we communicate with the memory to fetch data."
   ]
  },
  {
   "cell_type": "code",
   "execution_count": 8,
   "id": "151a5540",
   "metadata": {},
   "outputs": [
    {
     "data": {
      "text/plain": [
       "30"
      ]
     },
     "execution_count": 8,
     "metadata": {},
     "output_type": "execute_result"
    }
   ],
   "source": [
    "str_quiz=\"convert to all capital letters\"\n",
    "str_quiz.upper()\n",
    "str_quiz.lower()\n",
    "len(str_quiz)\n"
   ]
  },
  {
   "cell_type": "code",
   "execution_count": null,
   "id": "03ed843d",
   "metadata": {},
   "outputs": [],
   "source": []
  }
 ],
 "metadata": {
  "kernelspec": {
   "display_name": "Python 3 (ipykernel)",
   "language": "python",
   "name": "python3"
  },
  "language_info": {
   "codemirror_mode": {
    "name": "ipython",
    "version": 3
   },
   "file_extension": ".py",
   "mimetype": "text/x-python",
   "name": "python",
   "nbconvert_exporter": "python",
   "pygments_lexer": "ipython3",
   "version": "3.9.7"
  }
 },
 "nbformat": 4,
 "nbformat_minor": 5
}
