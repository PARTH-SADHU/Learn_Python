{
 "cells": [
  {
   "cell_type": "markdown",
   "id": "dd449335",
   "metadata": {},
   "source": [
    "##  Break Statements:- These statement is used  to break from a for /while loop if some condition occurs."
   ]
  },
  {
   "cell_type": "code",
   "execution_count": 3,
   "id": "44ce04df",
   "metadata": {},
   "outputs": [
    {
     "name": "stdout",
     "output_type": "stream",
     "text": [
      "21\n",
      "21\n",
      "43\n",
      "12\n",
      "parth sadhu\n",
      "stop\n"
     ]
    }
   ],
   "source": [
    "my_list=[21,43,12,\"parth sadhu\",\"stop\",54,21,87,4,8\n",
    "         ,\"yash \"]\n",
    "\n",
    "for current_element in my_list:\n",
    "    print(current_element)\n",
    "    if current_element == \"stop\":\n",
    "        break"
   ]
  },
  {
   "cell_type": "code",
   "execution_count": 1,
   "id": "141227a7",
   "metadata": {},
   "outputs": [
    {
     "name": "stdout",
     "output_type": "stream",
     "text": [
      "21\n",
      "43\n",
      "12\n",
      "parth sadhu\n",
      "stop\n"
     ]
    }
   ],
   "source": [
    "my_list=[21,43,12,\"parth sadhu\",\"stop\",54,21,87,4,8\n",
    "         ,\"yash \"]\n",
    "index=0\n",
    "\n",
    "while index< len(my_list):\n",
    "    current_element=my_list[index]\n",
    "    print(current_element)\n",
    "    if current_element==\"stop\":\n",
    "        break\n",
    "    index=index+1"
   ]
  },
  {
   "cell_type": "markdown",
   "id": "82b71c01",
   "metadata": {},
   "source": [
    "## Continue Statements: These statement is used to skip some iteration from a for /while loopif some condition is met."
   ]
  },
  {
   "cell_type": "code",
   "execution_count": 17,
   "id": "7c7f22d6",
   "metadata": {},
   "outputs": [
    {
     "name": "stdout",
     "output_type": "stream",
     "text": [
      "32\n",
      "45\n",
      "parth\n",
      "yash\n",
      "SOLO_DOLO\n",
      "23\n",
      "76\n",
      "Legend\n",
      "545\n",
      "face\n",
      "mother\n"
     ]
    }
   ],
   "source": [
    "my_list=[32,45,\"parth\",\"yash\",\"SOLO_DOLO\",23,76,\"stop\",\"Legend\",545,\"stop\",\"face\",\"mother\"]\n",
    "\n",
    "for i in my_list:\n",
    "    if i==\"stop\":\n",
    "        continue\n",
    "    print(i)\n",
    "        "
   ]
  },
  {
   "cell_type": "markdown",
   "id": "a80e2f2e",
   "metadata": {},
   "source": [
    "## Zip Function: This function is used to convert two iterators in to a iterables. It combines two lists and creates a single list."
   ]
  },
  {
   "cell_type": "code",
   "execution_count": 4,
   "id": "6f462682",
   "metadata": {},
   "outputs": [
    {
     "name": "stdout",
     "output_type": "stream",
     "text": [
      "[(34, 23), (4, 5), ('start', 1), ('oceans', 3)]\n"
     ]
    }
   ],
   "source": [
    "list_1={12,4,34,\"start\",\"pulviophile\",\"oceans\"}\n",
    "list_2=[23,5,1,3]\n",
    "\n",
    "zip_list=zip(list_1,list_2)\n",
    "print(list(zip_list))"
   ]
  },
  {
   "cell_type": "code",
   "execution_count": 16,
   "id": "63aa31a0",
   "metadata": {},
   "outputs": [],
   "source": [
    "student_names=[\"parth\",\"yash\",\"vraj\",\"ankit\",\"mihir\"]\n",
    "student_marks=[32,98,77,99,99]\n",
    "combined_list={}\n",
    "\n",
    "zipped_list=zip(student_names,student_marks)"
   ]
  },
  {
   "cell_type": "code",
   "execution_count": 17,
   "id": "0859c7c7",
   "metadata": {},
   "outputs": [
    {
     "name": "stdout",
     "output_type": "stream",
     "text": [
      "{'parth': 32, 'yash': 98, 'vraj': 77, 'ankit': 99, 'mihir': 99}\n"
     ]
    }
   ],
   "source": [
    "\n",
    "for i,j in zipped_list:\n",
    "    combined_list[i]=j\n",
    "    \n",
    "print(combined_list)"
   ]
  },
  {
   "cell_type": "markdown",
   "id": "71d7dff7",
   "metadata": {},
   "source": [
    "## Enumerate Function:Enumerate function is the extension of zip function that adds only count to the list \n"
   ]
  },
  {
   "cell_type": "code",
   "execution_count": 20,
   "id": "6d5f6400",
   "metadata": {},
   "outputs": [
    {
     "name": "stdout",
     "output_type": "stream",
     "text": [
      "[(0, 32), (1, 54), (2, 87), (3, 'sand'), (4, 'ocean'), (5, 'world')]\n",
      "0 32\n",
      "1 54\n",
      "2 87\n",
      "3 sand\n",
      "4 ocean\n",
      "5 world\n"
     ]
    }
   ],
   "source": [
    "my_list=[32,54,87,\"sand\",\"ocean\",\"world\"]\n",
    "\n",
    "print(list(enumerate(my_list)))\n",
    "for i,element in enumerate(my_list):\n",
    "    print(i,element)"
   ]
  },
  {
   "cell_type": "markdown",
   "id": "acb38d93",
   "metadata": {},
   "source": [
    "## List Comprehension: This is used to make lists in a moer faster way"
   ]
  },
  {
   "cell_type": "markdown",
   "id": "21f61105",
   "metadata": {},
   "source": [
    "### Simple Method:"
   ]
  },
  {
   "cell_type": "code",
   "execution_count": 23,
   "id": "6ee852c8",
   "metadata": {},
   "outputs": [
    {
     "name": "stdout",
     "output_type": "stream",
     "text": [
      "[0, 1, 2, 3, 4, 5, 6, 7, 8, 9]\n"
     ]
    }
   ],
   "source": [
    "simple_list=[]\n",
    "for i in range(10):\n",
    "    simple_list.append(i)\n",
    "print(simple_list)"
   ]
  },
  {
   "cell_type": "markdown",
   "id": "dac05ae2",
   "metadata": {},
   "source": [
    "### List Comprehension:"
   ]
  },
  {
   "cell_type": "code",
   "execution_count": 24,
   "id": "532fcae4",
   "metadata": {},
   "outputs": [
    {
     "name": "stdout",
     "output_type": "stream",
     "text": [
      "[0, 1, 2, 3, 4, 5, 6, 7, 8, 9]\n"
     ]
    }
   ],
   "source": [
    "list_comp=[i for i in range(10)]\n",
    "print(list_comp)"
   ]
  },
  {
   "cell_type": "code",
   "execution_count": null,
   "id": "d7fcd819",
   "metadata": {},
   "outputs": [],
   "source": []
  }
 ],
 "metadata": {
  "kernelspec": {
   "display_name": "Python 3 (ipykernel)",
   "language": "python",
   "name": "python3"
  },
  "language_info": {
   "codemirror_mode": {
    "name": "ipython",
    "version": 3
   },
   "file_extension": ".py",
   "mimetype": "text/x-python",
   "name": "python",
   "nbconvert_exporter": "python",
   "pygments_lexer": "ipython3",
   "version": "3.9.7"
  }
 },
 "nbformat": 4,
 "nbformat_minor": 5
}
